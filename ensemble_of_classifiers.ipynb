{
 "cells": [
  {
   "cell_type": "markdown",
   "id": "8d57e677",
   "metadata": {
    "id": "8d57e677"
   },
   "source": [
    "# Tp1 EOC"
   ]
  },
  {
   "cell_type": "code",
   "execution_count": null,
   "id": "4e039d0a",
   "metadata": {
    "id": "4e039d0a"
   },
   "outputs": [],
   "source": [
    "\n",
    "import sklearn.datasets as skd\n",
    "from sklearn.ensemble import RandomForestClassifier, ExtraTreesClassifier\n",
    "from sklearn.tree import DecisionTreeClassifier\n",
    "from sklearn.metrics import accuracy_score, precision_score, recall_score, f1_score\n",
    "from sklearn.model_selection import train_test_split, cross_val_score\n",
    "from sklearn.ensemble import BaggingClassifier\n",
    "from sklearn.tree import DecisionTreeClassifier\n",
    "from sklearn.model_selection import GridSearchCV\n",
    "from scipy.stats import randint\n",
    "from sklearn.model_selection import RandomizedSearchCV\n",
    "from sklearn.datasets import fetch_openml\n",
    "from sklearn.model_selection import train_test_split\n"
   ]
  },
  {
   "cell_type": "markdown",
   "id": "I6yZ2T5kUfFM",
   "metadata": {
    "id": "I6yZ2T5kUfFM"
   },
   "source": [
    "# Loading the bank marketing dataset from OpenMl"
   ]
  },
  {
   "cell_type": "code",
   "execution_count": null,
   "id": "724a5372",
   "metadata": {},
   "outputs": [],
   "source": [
    "scores={}"
   ]
  },
  {
   "cell_type": "code",
   "execution_count": null,
   "id": "aOZ8JUfPW3wo",
   "metadata": {
    "id": "aOZ8JUfPW3wo"
   },
   "outputs": [],
   "source": [
    "\n",
    "_id=1063 #37 for diabetes,841 for stock, 1472 for energy efficiency,44972 for red wine quality,1063 for kc2\n",
    "X,y= fetch_openml(data_id=_id,return_X_y=True)\n"
   ]
  },
  {
   "cell_type": "markdown",
   "id": "ksODEMeWYYHv",
   "metadata": {
    "id": "ksODEMeWYYHv"
   },
   "source": [
    "### Create the Extra Trees"
   ]
  },
  {
   "cell_type": "code",
   "execution_count": null,
   "id": "j-sPNOKxW7Uu",
   "metadata": {
    "colab": {
     "base_uri": "https://localhost:8080/"
    },
    "id": "j-sPNOKxW7Uu",
    "outputId": "e75ddb7f-8f7a-401d-cbe1-7942301ae671"
   },
   "outputs": [],
   "source": [
    "\n",
    "# Create the bagging classifier\n",
    "ET = ExtraTreesClassifier(n_estimators=100,random_state=45)"
   ]
  },
  {
   "cell_type": "markdown",
   "id": "xK5VIM0nfLy6",
   "metadata": {
    "id": "xK5VIM0nfLy6"
   },
   "source": [
    "### Create the bagged forest"
   ]
  },
  {
   "cell_type": "code",
   "execution_count": null,
   "id": "9k5GIW-8cA7S",
   "metadata": {
    "colab": {
     "base_uri": "https://localhost:8080/"
    },
    "id": "9k5GIW-8cA7S",
    "outputId": "31d08204-0294-4b9b-a004-f9b5225c5890"
   },
   "outputs": [],
   "source": [
    "dt = DecisionTreeClassifier(random_state=42)\n",
    "bg = BaggingClassifier(estimator=dt, n_estimators=100, random_state=42)\n"
   ]
  },
  {
   "cell_type": "markdown",
   "id": "lTJOFJsAfRbl",
   "metadata": {
    "id": "lTJOFJsAfRbl"
   },
   "source": [
    "### Create the Rnadom Forest Classifier"
   ]
  },
  {
   "cell_type": "code",
   "execution_count": null,
   "id": "qKEliozfcuYN",
   "metadata": {
    "id": "qKEliozfcuYN"
   },
   "outputs": [],
   "source": [
    "RF=RandomForestClassifier(n_estimators=100,max_features=0.5,random_state=42)"
   ]
  },
  {
   "cell_type": "markdown",
   "id": "13Ol7x7DhaiP",
   "metadata": {
    "id": "13Ol7x7DhaiP"
   },
   "source": [
    "### Building the baseline"
   ]
  },
  {
   "cell_type": "code",
   "execution_count": null,
   "id": "c21e8b10",
   "metadata": {},
   "outputs": [],
   "source": [
    "dt = DecisionTreeClassifier(random_state=42)"
   ]
  },
  {
   "cell_type": "markdown",
   "id": "MvgSM-1RkYNK",
   "metadata": {
    "id": "MvgSM-1RkYNK"
   },
   "source": [
    "### Hyper parameter tuning for decision tree"
   ]
  },
  {
   "cell_type": "code",
   "execution_count": null,
   "id": "4i5RbWVkkZT7",
   "metadata": {
    "colab": {
     "base_uri": "https://localhost:8080/"
    },
    "id": "4i5RbWVkkZT7",
    "outputId": "788142eb-9727-4bfe-f6f4-291c686fde07"
   },
   "outputs": [],
   "source": [
    "param_grid = {'max_depth': [3, 4, 5, 6, 7, 8, 9, 10],\n",
    "              'min_samples_leaf': [1, 2, 3, 4, 5],\n",
    "              'min_samples_split': [2, 3, 4, 5, 6]}\n",
    "\n",
    "# Initialize the GridSearchCV object\n",
    "grid_search_DT = RandomizedSearchCV(dt, param_grid, cv=5, scoring='accuracy',random_state=42)\n",
    "\n",
    "# Fit the GridSearchCV object to the data\n",
    "grid_search_DT.fit(X, y)\n",
    "\n",
    "# Print the best parameters and the best score\n",
    "print(\"Best parameters:\", grid_search_DT.best_params_)\n",
    "print(\"Best score:\", grid_search_DT.best_score_)\n"
   ]
  },
  {
   "cell_type": "markdown",
   "id": "CtZl9FYlk1d6",
   "metadata": {
    "id": "CtZl9FYlk1d6"
   },
   "source": [
    "### Hyper parameter tuning for random Forest Classifier"
   ]
  },
  {
   "cell_type": "code",
   "execution_count": null,
   "id": "mT-T3w9Ok3Cj",
   "metadata": {
    "colab": {
     "base_uri": "https://localhost:8080/"
    },
    "id": "mT-T3w9Ok3Cj",
    "outputId": "ce6d42a8-007f-4e96-b9a0-4ff8f264daf8"
   },
   "outputs": [],
   "source": [
    "param_dist = {'max_depth': randint(2, 30),\n",
    "              'min_samples_leaf': randint(1, 20),\n",
    "              'min_samples_split': randint(2, 20),\n",
    "              'criterion': ['gini', 'entropy']}\n",
    "random_search_RF = RandomizedSearchCV(RF, param_distributions=param_dist, n_iter=100, cv=5, scoring='accuracy', random_state=42)\n",
    "\n",
    "# Fit the RandomizedSearchCV object to the data\n",
    "random_search_RF.fit(X, y)\n",
    "\n",
    "# Print the best parameters and the best score\n",
    "print(\"Best parameters:\", random_search_RF.best_params_)\n",
    "print(\"Best score:\", random_search_RF.best_score_)"
   ]
  },
  {
   "cell_type": "markdown",
   "id": "ZWKFgOi2lk--",
   "metadata": {
    "id": "ZWKFgOi2lk--"
   },
   "source": [
    "### hyper parameter tuning for ExtraTrees"
   ]
  },
  {
   "cell_type": "code",
   "execution_count": null,
   "id": "xNLpqAnHlME4",
   "metadata": {
    "colab": {
     "base_uri": "https://localhost:8080/"
    },
    "id": "xNLpqAnHlME4",
    "outputId": "ffb169b5-d914-4c5b-b4b9-d581a5de190e"
   },
   "outputs": [],
   "source": [
    "param_dist = {'max_depth': randint(2, 30),\n",
    "              'min_samples_leaf': randint(1, 20),\n",
    "              'min_samples_split': randint(2, 20),\n",
    "              'criterion': ['gini', 'entropy']}\n",
    "random_search_ET = RandomizedSearchCV(ET, param_distributions=param_dist, n_iter=100, cv=5, scoring='accuracy', random_state=42)\n",
    "\n",
    "# Fit the RandomizedSearchCV object to the data\n",
    "random_search_ET.fit(X, y)\n",
    "\n",
    "# Print the best parameters and the best score\n",
    "print(\"Best parameters:\", random_search_ET.best_params_)\n",
    "print(\"Best score:\", random_search_ET.best_score_)"
   ]
  },
  {
   "cell_type": "markdown",
   "id": "GlrC6dxZm1Bx",
   "metadata": {
    "id": "GlrC6dxZm1Bx"
   },
   "source": [
    "### hyper parameter for Bagging"
   ]
  },
  {
   "cell_type": "code",
   "execution_count": null,
   "id": "9F0_j-pwm1gp",
   "metadata": {
    "colab": {
     "base_uri": "https://localhost:8080/"
    },
    "id": "9F0_j-pwm1gp",
    "outputId": "e63b6241-908c-40ff-8b5a-adbea22c64ba"
   },
   "outputs": [],
   "source": [
    "param_dist = {'estimator__max_depth': randint(2, 30),\n",
    "              'estimator__min_samples_leaf': randint(1, 20),\n",
    "              'estimator__min_samples_split': randint(2, 20),\n",
    "              'estimator__criterion': ['gini', 'entropy'],\n",
    "              'bootstrap': [True, False],\n",
    "              'bootstrap_features': [True, False]\n",
    "             }\n",
    "\n",
    "# Initialize the RandomizedSearchCV object\n",
    "random_search_Bag = RandomizedSearchCV(bg,param_distributions=param_dist, n_iter=100, cv=5, scoring='accuracy', random_state=42)\n",
    "\n",
    "# Fit the RandomizedSearchCV object to the data\n",
    "random_search_Bag.fit(X, y)\n",
    "\n",
    "# Print the best parameters and the best score\n",
    "print(\"Best parameters:\",random_search_Bag.best_params_)\n",
    "print(\"Best score:\", random_search_Bag.best_score_)"
   ]
  },
  {
   "cell_type": "code",
   "execution_count": null,
   "id": "Iqd-zhT3oJKq",
   "metadata": {
    "id": "Iqd-zhT3oJKq"
   },
   "outputs": [],
   "source": [
    "scores['kc2']=[grid_search_DT.best_score_,random_search_RF.best_score_,random_search_ET.best_score_,random_search_Bag.best_score_]"
   ]
  },
  {
   "cell_type": "code",
   "execution_count": null,
   "id": "3ecbb8ea",
   "metadata": {},
   "outputs": [],
   "source": [
    "scores"
   ]
  },
  {
   "cell_type": "code",
   "execution_count": null,
   "id": "ca507626",
   "metadata": {},
   "outputs": [],
   "source": [
    "import matplotlib.pyplot as plt\n",
    "\n",
    "# data_dict is your dictionary with the dataset names as keys and the accuracy of the 4 models as values\n",
    "\n",
    "\n",
    "# Get the dataset names and the accuracy values from the dictionary\n",
    "datasets = list(scores.keys())\n",
    "accuracies = [list(scores[dataset]) for dataset in datasets]\n",
    "\n",
    "accuracies = list(map(list, zip(*accuracies)))\n",
    "models=['Decision Tree','Random Forest','Extra Trees','Bagging Tree']\n",
    "# Create the bar plot\n",
    "fig, ax = plt.subplots()\n",
    "bar_width = 0.15\n",
    "bar_l = [i for i in range(len(accuracies[0]))]\n",
    "for i in range(len(accuracies)):\n",
    "    ax.bar(bar_l, accuracies[i], bar_width, label=models[i], edgecolor='black',\n",
    "           align='edge')\n",
    "    bar_l = [x + bar_width for x in bar_l]\n",
    "\n",
    "# Add labels, title and names of the datasets on the x-axis\n",
    "ax.set_xlabel('Datasets')\n",
    "ax.set_ylabel('Accuracy')\n",
    "ax.set_title('Accuracy of 4 Models on Different Datasets')\n",
    "\n",
    "# Place the legend outside the figure \n",
    "ax.legend(bbox_to_anchor=(1.05, 1), loc='upper left', borderaxespad=0.)\n",
    "\n",
    "# set names of the datasets on the x-axis\n",
    "plt.xticks([i + bar_width for i in range(len(accuracies[0]))], datasets)\n",
    "\n",
    "# Show the plot\n",
    "plt.show()\n",
    "\n",
    "\n",
    "\n",
    "\n"
   ]
  },
  {
   "cell_type": "markdown",
   "id": "97a2116a",
   "metadata": {},
   "source": [
    "Based on the given results, it appears that the performance of the 4 random forest techniques vary across different datasets. The performance of a technique on a specific dataset can be measured by its accuracy.\n",
    "\n",
    "In general, the performance of the techniques is relatively high, with most of the accuracy values being above 0.5. However, there are some datasets on which the performance is relatively lower. For example, on the 'energy' dataset, the accuracy of all models is below 0.66. Similarly, on the 'wine' dataset, the accuracy of all models is below 0.6.\n",
    "\n",
    "It is worth noting that the performance of the models on different datasets is not always consistent. For example, on the 'stock' dataset, Decision Tree has the highest accuracy, while on the 'diabetes' dataset, Decision Tree has the lowest accuracy. Similarly, on the 'energy' dataset, Bagging Tree has the highest accuracy, while on the 'kc2' dataset, Bagging Tree has the lowest accuracy.\n",
    "\n",
    "One possible explanation for these variations in performance could be the differences in the characteristics of the datasets. Each dataset may have different features and different distributions of data points, which can affect the performance of the random forest techniques.\n",
    "It's worth mentioning that Decision Tree model is having a relatively lower performance across most of the datasets compared to Random Forest, Extra Trees and Bagging Tree. While Random Forest and Extra Trees are having similar and relatively higher performance across most of the datasets."
   ]
  },
  {
   "cell_type": "markdown",
   "id": "c08e9c3c",
   "metadata": {},
   "source": [
    "# Experience 2 "
   ]
  },
  {
   "cell_type": "code",
   "execution_count": 122,
   "id": "40a17d9a",
   "metadata": {},
   "outputs": [
    {
     "data": {
      "image/png": "[encoded data removed]",
      "text/plain": [
       "<Figure size 432x288 with 1 Axes>"
      ]
     },
     "metadata": {
      "needs_background": "light"
     },
     "output_type": "display_data"
    },
    {
     "data": {
      "image/png": "[encoded data removed]",
      "text/plain": [
       "<Figure size 432x288 with 1 Axes>"
      ]
     },
     "metadata": {
      "needs_background": "light"
     },
     "output_type": "display_data"
    },
    {
     "data": {
      "image/png": "[encoded data removed]",
      "text/plain": [
       "<Figure size 432x288 with 1 Axes>"
      ]
     },
     "metadata": {
      "needs_background": "light"
     },
     "output_type": "display_data"
    }
   ],
   "source": [
    "import numpy as np\n",
    "import matplotlib.pyplot as plt\n",
    "from sklearn.ensemble import RandomForestClassifier, ExtraTreesClassifier, BaggingClassifier\n",
    "from sklearn.datasets import make_classification\n",
    "from sklearn.model_selection import cross_val_score\n",
    "\n",
    "# Generate the datasets\n",
    "X1, y1 = make_classification(n_samples=1000, n_features=20, n_classes=2, n_informative=5, n_clusters_per_class=2)\n",
    "X2, y2 = make_classification(n_samples=1000, n_features=20, n_classes=2, n_informative=5, n_clusters_per_class=2)\n",
    "\n",
    "# Define the number of trees in the forest\n",
    "n_trees = [10, 20, 30, 40, 50, 60, 70, 80, 90, 100]\n",
    "\n",
    "# Define the random forest techniques\n",
    "rf = RandomForestClassifier()\n",
    "et = ExtraTreesClassifier()\n",
    "bg = BaggingClassifier()\n",
    "models = [rf, et, bg]\n",
    "model_names = ['Random Forest', 'Extra Trees', 'Bagging Tree']\n",
    "\n",
    "# Create a dictionary to store the results\n",
    "results = {'Random Forest': [], 'Extra Trees': [], 'Bagging Tree': []}\n",
    "\n",
    "# Run the experiment for each random forest technique\n",
    "for i, model in enumerate(models):\n",
    "    for n in n_trees:\n",
    "        model.set_params(n_estimators=n)\n",
    "        cv_scores1 = cross_val_score(model, X1, y1, cv=5)\n",
    "        cv_scores2 = cross_val_score(model, X2, y2, cv=5)\n",
    "        results[model_names[i]].append((np.mean(cv_scores1), np.mean(cv_scores2), np.std(cv_scores1), np.std(cv_scores2)))\n",
    "        \n",
    "# Plot the results\n",
    "for model_name in model_names:\n",
    "    means1 = [result[0] for result in results[model_name]]\n",
    "    stds1 = [result[2] for result in results[model_name]]\n",
    "    means2 = [result[1] for result in results[model_name]]\n",
    "    stds2 = [result[3] for result in results[model_name]]\n",
    "    plt.figure()\n",
    "    plt.errorbar(n_trees, means1, stds1, label='Dataset 1')\n",
    "    plt.errorbar(n_trees, means2, stds2, label='Dataset 2')\n",
    "    plt.xlabel('Number of Trees')\n",
    "    plt.ylabel('Accuracy')\n",
    "    plt.title(model_name)\n",
    "    plt.legend()\n",
    "plt.show()\n",
    "\n"
   ]
  },
  {
   "cell_type": "markdown",
   "id": "81cd6b56",
   "metadata": {},
   "source": [
    "# Experience 3\n"
   ]
  },
  {
   "cell_type": "code",
   "execution_count": 3,
   "id": "de113340",
   "metadata": {},
   "outputs": [
    {
     "data": {
      "image/png": "[encoded data removed]",
      "text/plain": [
       "<Figure size 576x288 with 2 Axes>"
      ]
     },
     "metadata": {
      "needs_background": "light"
     },
     "output_type": "display_data"
    },
    {
     "data": {
      "image/png": "[encoded data removed]",
      "text/plain": [
       "<Figure size 576x288 with 2 Axes>"
      ]
     },
     "metadata": {
      "needs_background": "light"
     },
     "output_type": "display_data"
    }
   ],
   "source": [
    "from sklearn.datasets import load_digits\n",
    "from sklearn.metrics import pairwise_distances\n",
    "import numpy as np\n",
    "\n",
    "# Load the digits dataset\n",
    "digits = load_digits()\n",
    "X, y = digits.data, digits.target\n",
    "\n",
    "# Train a random forest classifier\n",
    "clf = RandomForestClassifier(n_estimators=100)\n",
    "clf.fit(X, y)\n",
    "\n",
    "# Define the similarity measure\n",
    "def similarity_measure(forest, X):\n",
    "    # Get the decision paths of the instances in X\n",
    "    decision_paths = forest.decision_path(X)[0].toarray().astype(int)\n",
    "    # Calculate the pairwise Jaccard similarity between the decision paths\n",
    "    similarities = 1 - pairwise_distances(decision_paths, metric='cosine')\n",
    "    return similarities\n",
    "\n",
    "# Calculate the similarity matrix for the instances in the digits dataset\n",
    "similarities = similarity_measure(clf, X)\n",
    "\n",
    "# Visualize a few pairs of digits to verify the consistency of the similarity measure\n",
    "import matplotlib.pyplot as plt\n",
    "\n",
    "indices = np.random.choice(len(X), size=(2, 2))\n",
    "for i, index_pair in enumerate(indices):\n",
    "    fig, ax = plt.subplots(1, 2, figsize=(8, 4))\n",
    "    for j, index in enumerate(index_pair):\n",
    "        ax[j].imshow(X[index].reshape(8, 8), cmap='gray')\n",
    "        ax[j].axis('off')\n",
    "    plt.suptitle(f'Similarity: {similarities[index_pair[0], index_pair[1]]:.2f}')\n",
    "plt.show()\n"
   ]
  },
  {
   "cell_type": "code",
   "execution_count": 4,
   "id": "5769368f",
   "metadata": {},
   "outputs": [
    {
     "data": {
      "text/plain": [
       "array([[1.        , 0.16273858, 0.17383247, ..., 0.18577718, 0.21834575,\n",
       "        0.18700133],\n",
       "       [0.16273858, 1.        , 0.35374461, ..., 0.37688135, 0.27874842,\n",
       "        0.29976269],\n",
       "       [0.17383247, 0.35374461, 1.        , ..., 0.34790069, 0.24241447,\n",
       "        0.37194425],\n",
       "       ...,\n",
       "       [0.18577718, 0.37688135, 0.34790069, ..., 1.        , 0.24795734,\n",
       "        0.47180108],\n",
       "       [0.21834575, 0.27874842, 0.24241447, ..., 0.24795734, 1.        ,\n",
       "        0.24195831],\n",
       "       [0.18700133, 0.29976269, 0.37194425, ..., 0.47180108, 0.24195831,\n",
       "        1.        ]])"
      ]
     },
     "execution_count": 4,
     "metadata": {},
     "output_type": "execute_result"
    }
   ],
   "source": [
    "similarities"
   ]
  },
  {
   "cell_type": "code",
   "execution_count": 5,
   "id": "b3810072",
   "metadata": {},
   "outputs": [
    {
     "data": {
      "text/plain": [
       "array([[1360,  389],\n",
       "       [1566, 1077]])"
      ]
     },
     "execution_count": 5,
     "metadata": {},
     "output_type": "execute_result"
    }
   ],
   "source": [
    "indices"
   ]
  },
  {
   "cell_type": "code",
   "execution_count": 6,
   "id": "472bde8c",
   "metadata": {},
   "outputs": [
    {
     "data": {
      "image/png": "[encoded data removed]",
      "text/plain": [
       "<Figure size 576x288 with 2 Axes>"
      ]
     },
     "metadata": {
      "needs_background": "light"
     },
     "output_type": "display_data"
    },
    {
     "data": {
      "image/png": "[encoded data removed]",
      "text/plain": [
       "<Figure size 576x288 with 2 Axes>"
      ]
     },
     "metadata": {
      "needs_background": "light"
     },
     "output_type": "display_data"
    }
   ],
   "source": [
    "indices =[[1,11],[0,1]]\n",
    "for i, index_pair in enumerate(indices):\n",
    "    fig, ax = plt.subplots(1, 2, figsize=(8, 4))\n",
    "    for j, index in enumerate(index_pair):\n",
    "        ax[j].imshow(X[index].reshape(8, 8), cmap='gray')\n",
    "        ax[j].axis('off')\n",
    "    plt.suptitle(f'Similarity: {similarities[index_pair[0], index_pair[1]]:.2f}')\n",
    "plt.show()"
   ]
  },
  {
   "cell_type": "code",
   "execution_count": null,
   "id": "2bb066b2",
   "metadata": {},
   "outputs": [],
   "source": []
  }
 ],
 "metadata": {
  "colab": {
   "provenance": []
  },
  "kernelspec": {
   "display_name": "Python 3",
   "language": "python",
   "name": "python3"
  },
  "language_info": {
   "codemirror_mode": {
    "name": "ipython",
    "version": 3
   },
   "file_extension": ".py",
   "mimetype": "text/x-python",
   "name": "python",
   "nbconvert_exporter": "python",
   "pygments_lexer": "ipython3",
   "version": "3.8.5"
  }
 },
 "nbformat": 4,
 "nbformat_minor": 5
}
